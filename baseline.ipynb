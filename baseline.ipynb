{
  "cells": [
    {
      "cell_type": "code",
      "execution_count": null,
      "metadata": {
        "pycharm": {
          "is_executing": false
        },
        "id": "hplnxkhuYNQC"
      },
      "outputs": [],
      "source": [
        "import pickle\n",
        "import pandas as pd\n",
        "import nltk\n",
        "nltk.download('stopwords')\n",
        "nltk.download('punkt')\n",
        "import itertools\n",
        "from collections import Counter\n",
        "import numpy as np\n",
        "from nltk import word_tokenize\n",
        "from nltk.corpus import stopwords\n",
        "from gensim.models import word2vec\n",
        "from sklearn.linear_model import LogisticRegression\n",
        "import os\n",
        "import string"
      ]
    },
    {
      "cell_type": "code",
      "execution_count": null,
      "metadata": {
        "id": "H6n9Vxh2YNQE"
      },
      "outputs": [],
      "source": [
        "# A function used to build a vocabulary based on descending word frequencies\n",
        "def build_vocab(sentences):\n",
        "    # Build vocabulary\n",
        "    word_counts = Counter(itertools.chain(*sentences))\n",
        "    # Mapping from index to word\n",
        "    vocabulary_inv = [x[0] for x in word_counts.most_common()]\n",
        "    # Mapping from word to index\n",
        "    vocabulary = {x: i for i, x in enumerate(vocabulary_inv)}\n",
        "    return word_counts, vocabulary, vocabulary_inv"
      ]
    },
    {
      "cell_type": "code",
      "execution_count": null,
      "metadata": {
        "id": "ltG309anYNQE"
      },
      "outputs": [],
      "source": [
        "# A function used to learn word embeddings through Word2vec module\n",
        "def get_embeddings(inp_data, vocabulary_inv, size_features=100,\n",
        "                   mode='skipgram',\n",
        "                   min_word_count=2,\n",
        "                   context=5):\n",
        "    model_name = \"embedding\"\n",
        "    model_name = os.path.join(model_name)\n",
        "    num_workers = 15  # Number of threads to run in parallel\n",
        "    downsampling = 1e-3  # Downsample setting for frequent words\n",
        "    print('Training Word2Vec model...')\n",
        "    # use inp_data and vocabulary_inv to reconstruct sentences\n",
        "    sentences = [[vocabulary_inv[w] for w in s] for s in inp_data]\n",
        "    if mode == 'skipgram':\n",
        "        sg = 1\n",
        "        print('Model: skip-gram')\n",
        "    elif mode == 'cbow':\n",
        "        sg = 0\n",
        "        print('Model: CBOW')\n",
        "    embedding_model = word2vec.Word2Vec(sentences, workers=num_workers,\n",
        "                                        sg=sg,\n",
        "                                        vector_size=size_features,\n",
        "                                        min_count=min_word_count,\n",
        "                                        window=context,\n",
        "                                        sample=downsampling)\n",
        "    print(\"Saving Word2Vec model {}\".format(model_name))\n",
        "    embedding_weights = np.zeros((len(vocabulary_inv), size_features))\n",
        "    for i in range(len(vocabulary_inv)):\n",
        "        word = vocabulary_inv[i]\n",
        "        if word in embedding_model.wv:\n",
        "            embedding_weights[i] = embedding_model.wv[word]\n",
        "        else:\n",
        "            embedding_weights[i] = np.random.uniform(-0.25, 0.25,\n",
        "                                                     embedding_model.vector_size)\n",
        "    return embedding_weights"
      ]
    },
    {
      "cell_type": "code",
      "execution_count": null,
      "metadata": {
        "id": "5gV-kz2wYNQF"
      },
      "outputs": [],
      "source": [
        "def preprocess_df(df):\n",
        "    # get English stopwords\n",
        "    stop_words = set(stopwords.words('english'))\n",
        "    stop_words.add('would')\n",
        "    # prepare translation table to translate punctuation to space\n",
        "    translator = str.maketrans(string.punctuation, ' ' * len(string.punctuation))\n",
        "    preprocessed_sentences = []\n",
        "    for i, row in df.iterrows():\n",
        "        sent = row[\"text\"]\n",
        "        sent_nopuncts = sent.translate(translator)\n",
        "        words_list = sent_nopuncts.strip().split()\n",
        "        filtered_words = [word for word in words_list if word not in stop_words and len(word) != 1] # also skip space from above translation\n",
        "        preprocessed_sentences.append(\" \".join(filtered_words))\n",
        "    df[\"text\"] = preprocessed_sentences\n",
        "    return df"
      ]
    },
    {
      "cell_type": "code",
      "execution_count": null,
      "metadata": {
        "id": "Pug-2o3UYNQF",
        "outputId": "a7f4346f-e337-41ec-89ba-0f4c2093ecde"
      },
      "outputs": [
        {
          "name": "stdout",
          "output_type": "stream",
          "text": [
            "Training Word2Vec model...\n",
            "Model: skip-gram\n",
            "Saving Word2Vec model embedding\n"
          ]
        }
      ],
      "source": [
        "data_path = \"/.\"\n",
        "\n",
        "df_train = pd.read_csv(data_path + \"train.csv\")\n",
        "df_test = pd.read_csv(data_path + \"test.csv\")\n",
        "\n",
        "df_train[\"text\"] = df_train[\"review\"]\n",
        "df_test[\"text\"] = df_test[\"review\"]\n",
        "df_train = preprocess_df(df_train)\n",
        "df_test = preprocess_df(df_test)\n",
        "\n",
        "# tokenization\n",
        "tagged_data = [word_tokenize(_d) for i, _d in enumerate(df_train[\"text\"])]\n",
        "# build vocabulary from tokenized data\n",
        "word_counts, vocabulary, vocabulary_inv = build_vocab(tagged_data)\n",
        "# use the above mapping to create input data\n",
        "inp_data = [[vocabulary[word] for word in text] for text in tagged_data]\n",
        "# get embedding vector\n",
        "embedding_weights = get_embeddings(inp_data, vocabulary_inv)\n",
        "\n",
        "\n",
        "tagged_train_data = [word_tokenize(_d) for i, _d in enumerate(df_train[\"text\"])]\n",
        "tagged_test_data = [word_tokenize(_d) for i, _d in enumerate(df_test[\"text\"])]\n",
        "\n",
        "train_vec = []\n",
        "for doc in tagged_train_data:\n",
        "    vec = 0\n",
        "    for w in doc:\n",
        "        vec += embedding_weights[vocabulary[w]]\n",
        "    vec = vec / len(doc)\n",
        "    train_vec.append(vec)\n",
        "\n",
        "test_vec = []\n",
        "for doc in tagged_test_data:\n",
        "    vec = 0\n",
        "    length = 0\n",
        "    for w in doc:\n",
        "        try:\n",
        "            vec += embedding_weights[vocabulary[w]]\n",
        "            length += 1\n",
        "        except:\n",
        "            continue\n",
        "    vec = vec / length\n",
        "    test_vec.append(vec)\n",
        "\n",
        "clf = LogisticRegression(max_iter=100000000).fit(train_vec, df_train[\"label\"])\n",
        "preds = clf.predict(test_vec)\n",
        "\n",
        "# in your implemetation, create the output file using the same format\n",
        "dic = {\"Id\": [], \"Predicted\": []}\n",
        "for i, pred in enumerate(preds):\n",
        "    dic[\"Id\"].append(i)\n",
        "    dic[\"Predicted\"].append(pred)\n",
        "\n",
        "dic_df = pd.DataFrame.from_dict(dic)\n",
        "dic_df.to_csv(data_path + \"predicted.csv\", index=False)"
      ]
    },
    {
      "cell_type": "code",
      "execution_count": null,
      "metadata": {
        "id": "E2O0xtMVYNQG"
      },
      "outputs": [],
      "source": []
    }
  ],
  "metadata": {
    "kernelspec": {
      "display_name": "Python 3 (ipykernel)",
      "language": "python",
      "name": "python3"
    },
    "language_info": {
      "codemirror_mode": {
        "name": "ipython",
        "version": 3
      },
      "file_extension": ".py",
      "mimetype": "text/x-python",
      "name": "python",
      "nbconvert_exporter": "python",
      "pygments_lexer": "ipython3",
      "version": "3.8.12"
    },
    "colab": {
      "provenance": []
    }
  },
  "nbformat": 4,
  "nbformat_minor": 0
}